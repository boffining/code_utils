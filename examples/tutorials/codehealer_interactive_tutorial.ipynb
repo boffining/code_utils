{
 "cells": [
  {
   "cell_type": "markdown",
   "metadata": {},
   "source": [
    "# CodeHealer Interactive Tutorial\n",
    "\n",
    "This notebook walks you through a quickstart experience, a deep dive into the agents that power CodeHealer, and ideas for extending the tooling for your own automation needs."
   ]
  },
  {
   "cell_type": "markdown",
   "metadata": {},
   "source": [
    "## Quickstart: Heal a Repository in Minutes\n",
    "\n",
    "1. Point CodeHealer at the root of a Python repository.\n",
    "2. Provide an OpenAI API key in your environment (`OPENAI_API_KEY`).\n",
    "3. Launch the orchestrator to automatically repair dependency and runtime issues."
   ]
  },
  {
   "cell_type": "code",
   "execution_count": null,
   "metadata": {
    "tags": [
     "quickstart"
    ]
   },
   "outputs": [],
   "source": [
    "from codehealer.core.healer import Healer\n",
    "\n",
    "# Replace this path with the project you want to heal.\n",
    "target_repo_path = \"../some_python_project\"\n",
    "\n",
    "healer = Healer(repo_path=target_repo_path, max_iterations=5)\n",
    "healer.heal()\n",
    "\n",
    "# The orchestrator will:\n",
    "# 1. Create an isolated sandbox environment.\n",
    "# 2. Install dependencies and repair requirements issues.\n",
    "# 3. Run the app's entry point and automatically patch runtime errors."
   ]
  },
  {
   "cell_type": "markdown",
   "metadata": {},
   "source": [
    "> **Tip:** The sandbox is created *inside* the container, so your host environment remains untouched."
   ]
  },
  {
   "cell_type": "markdown",
   "metadata": {},
   "source": [
    "## Deep Dive: Understanding the Agents\n",
    "\n",
    "CodeHealer relies on two specialized agents built on top of OpenAI models:\n",
    "\n",
    "- **EnvironmentAgent**: Repairs `requirements.txt` files when `pip install` fails.\n",
    "- **CodeAgent**: Analyses Python tracebacks and returns a fully patched source file.\n",
    "\n",
    "You can inspect and even subclass these agents to add guardrails or telemetry."
   ]
  },
  {
   "cell_type": "code",
   "execution_count": null,
   "metadata": {
    "tags": [
     "agents"
    ]
   },
   "outputs": [],
   "source": [
    "from codehealer.agents.environment_agent import EnvironmentAgent\n",
    "from codehealer.agents.code_agent import CodeAgent\n",
    "\n",
    "repo_path = \"../some_python_project\"\n",
    "env_agent = EnvironmentAgent(repo_path)\n",
    "code_agent = CodeAgent(repo_path)\n",
    "\n",
    "pip_error_log = \"Collect the pip stderr here...\"\n",
    "requirements_text = open(f\"{repo_path}/requirements.txt\", encoding=\"utf-8\").read()\n",
    "\n",
    "suggested_requirements = env_agent.get_suggestion(pip_error_log, requirements_text)\n",
    "print(suggested_requirements)\n",
    "\n",
    "python_traceback = \"Traceback (most recent call last): ...\"\n",
    "file_path, patched_code = code_agent.get_suggestion(python_traceback)\n",
    "print(\"Patched file:\", file_path)\n",
    "print(patched_code[:400], \"...\")"
   ]
  },
  {
   "cell_type": "markdown",
   "metadata": {},
   "source": [
    "## Extending the Architecture\n",
    "\n",
    "CodeHealer is intentionally modular. You can replace agents, customize sandbox creation, or add new healing phases. Below is a sketch of how to introduce a custom agent that adds logging around code fixes."
   ]
  },
  {
   "cell_type": "code",
   "execution_count": null,
   "metadata": {
    "tags": [
     "extension"
    ]
   },
   "outputs": [],
   "source": [
    "from codehealer.agents.code_agent import CodeAgent\n",
    "\n",
    "class AuditedCodeAgent(CodeAgent):\n",
    "    \"\"\"Wraps CodeAgent to persist every suggestion for review.\"\"\"\n",
    "\n",
    "    def __init__(self, repo_path, audit_log_path):\n",
    "        super().__init__(repo_path)\n",
    "        self.audit_log_path = audit_log_path\n",
    "\n",
    "    def get_suggestion(self, traceback_log):\n",
    "        suggestion = super().get_suggestion(traceback_log)\n",
    "        if suggestion:\n",
    "            file_path, new_content = suggestion\n",
    "            with open(self.audit_log_path, \"a\", encoding=\"utf-8\") as audit_log:\n",
    "                audit_log.write(f\"Patched {file_path}\\n\")\n",
    "        return suggestion\n",
    "\n",
    "# Swap the agent inside the healer orchestrator.\n",
    "from codehealer.core.healer import Healer\n",
    "\n",
    "healer = Healer(repo_path=target_repo_path)\n",
    "healer.code_agent = AuditedCodeAgent(target_repo_path, \"./audit.log\")\n",
    "healer.heal()"
   ]
  },
  {
   "cell_type": "markdown",
   "metadata": {},
   "source": [
    "### Further Ideas\n",
    "\n",
    "- Add a static-analysis phase before runtime execution.\n",
    "- Persist structured telemetry (e.g., JSON logs) for observability.\n",
    "- Swap the sandbox implementation to target remote containers or Docker Compose services.\n",
    "\n",
    "Feel free to duplicate this notebook and adapt the examples for your own workflows!"
   ]
  }
 ],
 "metadata": {
  "kernelspec": {
   "display_name": "Python 3",
   "language": "python",
   "name": "python3"
  },
  "language_info": {
   "name": "python",
   "version": "3.10"
  }
 },
 "nbformat": 4,
 "nbformat_minor": 5
}
